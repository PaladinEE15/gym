{
 "cells": [
  {
   "cell_type": "code",
   "execution_count": null,
   "metadata": {
    "tags": [
     "outputPrepend"
    ]
   },
   "outputs": [],
   "source": [
    "#SAC code\n",
    "import gym\n",
    "import numpy as np\n",
    "from stable_baselines.sac.policies import MlpPolicy\n",
    "from stable_baselines import SAC\n",
    "from stable_baselines.common.env_checker import check_env\n",
    "\n",
    "env = gym.make('NoisySelfNav-v0')\n",
    "env.set_barrier_height(20)\n",
    "env.set_x(10,120)\n",
    "model = SAC(MlpPolicy, env, learning_starts=1000,tensorboard_log='D:\\Logs',gamma=0.99, buffer_size=1000, learning_rate=0.001)\n",
    "\n",
    "model.learn(total_timesteps=300000)\n",
    "model.save(\"sac_noisynav_easy\")\n",
    "\n",
    "# remove to demonstrate saving and loading\n",
    "\n",
    "from winsound import Beep\n",
    "Beep(3000, 500)"
   ]
  },
  {
   "cell_type": "code",
   "execution_count": null,
   "metadata": {},
   "outputs": [],
   "source": [
    "#testcode\n",
    "import gym\n",
    "import numpy as np\n",
    "from stable_baselines.sac.policies import MlpPolicy\n",
    "from stable_baselines import SAC\n",
    "env = gym.make('NoisySelfNav-v0')\n",
    "#model = SAC.load(\"sac_noisynav\")\n",
    "obs=env.reset()\n",
    "sub_reward=[]\n",
    "sucess=0\n",
    "fails=0\n",
    "for dd in range(10000):\n",
    "    action, _states = model.predict(obs)\n",
    "    obs, rewards, dones, info = env.step(action)\n",
    "    sub_reward.append(rewards)\n",
    "    if dones:\n",
    "        if rewards > 0:\n",
    "            sucess=sucess+1\n",
    "        else:\n",
    "            fails = fails + 1\n",
    "        obs = env.reset()\n",
    "sub_reward=np.array(sub_reward)\n",
    "import matplotlib.pyplot as plt\n",
    "plt.plot(range(10000),sub_reward)"
   ]
  }
 ],
 "metadata": {
  "language_info": {
   "codemirror_mode": {
    "name": "ipython",
    "version": 3
   },
   "file_extension": ".py",
   "mimetype": "text/x-python",
   "name": "python",
   "nbconvert_exporter": "python",
   "pygments_lexer": "ipython3",
   "version": "3.6.10-final"
  },
  "orig_nbformat": 2,
  "kernelspec": {
   "name": "python361064bit7a32da46385a4693b6171a0a1568aa93",
   "display_name": "Python 3.6.10 64-bit"
  }
 },
 "nbformat": 4,
 "nbformat_minor": 2
}