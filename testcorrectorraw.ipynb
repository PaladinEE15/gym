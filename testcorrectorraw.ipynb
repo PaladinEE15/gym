{
 "cells": [
  {
   "cell_type": "code",
   "execution_count": 1,
   "metadata": {},
   "outputs": [],
   "source": [
    "#generate dataset\n",
    "import gym\n",
    "import numpy as np\n",
    "from stable_baselines import SAC\n",
    "\n",
    "#we should get normal transitions, and add noise as samples\n",
    "#pendulum obs: cos(theta), sin(theta), thetadot, action: 1\n",
    "\n",
    "#config page\n",
    "total_episodes = 10000\n",
    "ac_dim = 1\n",
    "ob_dim = 3\n",
    "x_dim = 2*ob_dim+ac_dim\n",
    "#config page end\n",
    "\n",
    "env = gym.make('NoisyPendulum-v0')\n",
    "model=SAC.load(\"sac_pendulum\")\n",
    "obs = env.reset()\n",
    "acvariant = np.random.rand(total_episodes)\n",
    "cor_dataset_xraw = np.zeros((total_episodes,x_dim))\n",
    "cor_dataset_y = np.zeros((total_episodes,ob_dim))\n",
    "\n",
    "subcount = 0\n",
    "for dd in range(total_episodes):\n",
    "    action, states = model.predict(obs)\n",
    "    action = action + acvariant[dd]\n",
    "    action = np.clip(action, -2, 2)[0]\n",
    "    cor_dataset_xraw[dd][0:ob_dim] = obs\n",
    "    cor_dataset_xraw[dd][ob_dim:ob_dim+ac_dim] = action\n",
    "    obs, rewards, dones, info = env.step(action)\n",
    "    cor_dataset_xraw[dd][ob_dim+ac_dim:2*ob_dim+ac_dim] = obs\n",
    "    cor_dataset_y[dd][:] = obs\n",
    "\n",
    "    subcount = subcount + 1\n",
    "    if subcount >= 100:\n",
    "        subcount = 0\n",
    "        obs = env.reset()\n",
    "\n",
    "np.save(\"cor_x_raw.npy\",cor_dataset_xraw)\n",
    "np.save(\"cor_y.npy\",cor_dataset_y)\n",
    "\n",
    "from winsound import Beep\n",
    "Beep(3000, 500)"
   ]
  },
  {
   "cell_type": "code",
   "execution_count": 4,
   "metadata": {
    "tags": []
   },
   "outputs": [
    {
     "output_type": "stream",
     "name": "stdout",
     "text": "[0.29011866 0.30202231 0.08115128 0.08273387 0.33780802 0.35604105\n 0.28712655 0.3054427  0.08136879 0.09203884 0.22069784 0.22646592\n 0.45178728 0.02004057 0.14435043 0.07626262 0.2306091  0.27277655\n 0.4033471  0.11246322 0.49691709 0.05774639 0.38139788 0.4417823\n 0.09899006 0.49473791 0.1472519  0.1196457  0.28019263 0.38325269\n 0.2681148  0.43088985 0.45026283 0.20496248 0.42723858 0.31070979\n 0.09765718 0.16168876 0.45054174 0.06373099 0.09380421 0.27843196\n 0.40883514 0.01065791 0.22239993 0.32502354 0.23448681 0.0283417\n 0.41095463 0.07390841 0.21465365 0.30442996 0.32309391 0.47874008\n 0.17337088 0.3584716  0.47039838 0.23872258 0.30166996 0.49575689\n 0.18991886 0.32364925 0.08214712 0.47008255 0.39862618 0.33841472\n 0.21352536 0.07834937 0.35663275 0.02215653 0.01021925 0.03143671\n 0.19904639 0.04565591 0.38186042 0.15023564 0.01364519 0.34051459\n 0.20917306 0.44220204 0.47515315 0.02917297 0.44248576 0.44078769\n 0.03314344 0.33620358 0.38348137 0.04918304 0.18655418 0.26449036\n 0.41198739 0.32902608 0.16744868 0.44124176 0.00589036 0.20370036\n 0.00855615 0.07365678 0.30613616 0.10066422]\n"
    }
   ],
   "source": [
    "#add random noises \n",
    "import numpy as np\n",
    "noiseangle = np.random.rand(100)-0.5\n",
    "noisespeed = 0.5*np.random.rand(100)-0.25\n",
    "np.save(\"cor_x_raw.npy\",Xraw)\n",
    "np.save(\"cor_y.npy\",Y)\n",
    "total_episodes = 10000\n",
    "ac_dim = 1\n",
    "ob_dim = 3\n",
    "x_dim = 2*ob_dim+ac_dim\n",
    "X = np.zeros((total_episodes,x_dim))\n",
    "\n",
    "for outer in range(100):\n",
    "    cosb = np.cos(noiseangle[outer])\n",
    "    sinb = np.sin(noiseangle[outer])\n",
    "    bias = noisespeed[outer]\n",
    "    for inner in range(100):\n",
    "        count = outer*100 + inner\n",
    "        X[count][0] = Xraw[count][0]*cosb - Xraw[count][1]*sinb\n",
    "        X[count][1] = Xraw[count][1]*cosb + Xraw[count][0]*sinb\n",
    "        X[count][2] = Xraw[count][2] + bias\n",
    "        X[count][4] = Xraw[count][4]*cosb - Xraw[count][5]*sinb\n",
    "        X[count][5] = Xraw[count][5]*cosb + Xraw[count][4]*sinb\n",
    "        X[count][6] = Xraw[count][6] + bias\n"
   ]
  },
  {
   "cell_type": "code",
   "execution_count": 4,
   "metadata": {
    "tags": []
   },
   "outputs": [
    {
     "output_type": "stream",
     "name": "stdout",
     "text": "[list([1, 2]) list([3, 4, 5])]\n"
    }
   ],
   "source": [
    "#train neural network\n",
    "from tensorflow.keras.models import Sequential\n",
    "from tensorflow.keras.layers import Dense\n",
    "from tensorflow.keras.optimizers import Adam\n",
    "\n",
    "input_size = x_dim\n",
    "output_size = ob_dim\n",
    "hidden_size = [32,32]\n",
    "\n",
    "model = Sequential()\n",
    "model.add(Dense(hidden_size[0], input_dim = input_size, init = 'uniform', activation = 'relu')\n",
    ")\n",
    "model.add(Dense(hidden_size[1], init = 'uniform', activation = 'relu')\n",
    ")\n",
    "model.add(Dense(output_size),init = 'uniform', activation = None)\n",
    "\n",
    "model.compile(loss='mse', optimizer='adam', metrics=['mse'])\n",
    "\n",
    "model.fit(x_train,y_train,epochs = 100, batch_size = 64)\n",
    "\n",
    "y_pred = model.predict(x_val)"
   ]
  },
  {
   "cell_type": "code",
   "execution_count": null,
   "metadata": {},
   "outputs": [],
   "source": [
    "#test performance\n",
    "import gym\n",
    "import numpy as np\n",
    "\n",
    "from stable_baselines import SAC\n",
    "\n",
    "env = gym.make('NoisyPendulum-v0')\n",
    "dcs_model=SAC.load(\"sac_pendulum\")\n",
    "obs_fix = env.reset()\n",
    "obs_raw = obs_fix\n",
    "env.set_noise(0,0.18)\n",
    "sub_reward_fix=[]\n",
    "for dd in range(400):\n",
    "    action, _states = dcs_model.predict(obs_fix)\n",
    "    obac = np.append(obs_raw,action)\n",
    "    obs_raw, rewards, dones, info = env.step(action)\n",
    "    inputx = np.append(obac, obs_raw)\n",
    "    obs_fix = model.predict(inputx)\n",
    "    sub_reward_fix.append(rewards)\n",
    "\n",
    "sub_reward_raw=[]\n",
    "obs = env.reset()\n",
    "for dd in range(400):\n",
    "    action, _states = dcs_model.predict(obs)\n",
    "    obs, rewards, dones, info = env.step(action)\n",
    "    sub_reward_raw.append(rewards)"
   ]
  },
  {
   "cell_type": "code",
   "execution_count": null,
   "metadata": {},
   "outputs": [],
   "source": [
    "import matplotlib.pyplot as plt\n",
    "\n",
    "plt.plot(range(400),np.array(sub_reward_raw))\n",
    "plt.plot(range(400),np.array(sub_reward_fix))\n",
    "plt.show()\n"
   ]
  }
 ],
 "metadata": {
  "language_info": {
   "codemirror_mode": {
    "name": "ipython",
    "version": 3
   },
   "file_extension": ".py",
   "mimetype": "text/x-python",
   "name": "python",
   "nbconvert_exporter": "python",
   "pygments_lexer": "ipython3",
   "version": "3.7.6-final"
  },
  "orig_nbformat": 2,
  "kernelspec": {
   "name": "python37664bittfconda0463646944364f008923372610a05372",
   "display_name": "Python 3.7.6 64-bit ('tf': conda)"
  }
 },
 "nbformat": 4,
 "nbformat_minor": 2
}